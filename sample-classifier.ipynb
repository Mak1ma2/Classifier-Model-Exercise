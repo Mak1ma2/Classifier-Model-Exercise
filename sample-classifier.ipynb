{
 "cells": [
  {
   "cell_type": "markdown",
   "metadata": {},
   "source": [
    "Mak1ma2 \n",
    "\n",
    "This is going to be a sample on how to create a classifier model. \n",
    "- Classifier vs Regressor? A: It's easier to understand the difference between a classifier model and a regressor model based on their general purpose. For classifier model the user wishes to input values into models to \"classify\" them to a certain label (ex: trained models using colors of the rainbow -> input light red -> model should output red (model classified \"light red\" as red <-- an already established label)). For regressor model the user wishes to input values into models to predict the future values (ex: trained models using values of shipments that flows through one warehouse -> input future dates -> model should output predicted values of shipments that'll pass through throughout the inputted dates).  \n",
    "\n",
    "While going through this exercise / demo you'll have 3 csv files in the same repo. You can look at the code for an idea of where to start from, but I highly encourage the reader to attempt writing the code based on the steps commented in the beginning and doing analysis and understanding the dataset given and it's relation to the scenario"
   ]
  },
  {
   "cell_type": "code",
   "execution_count": 90,
   "metadata": {},
   "outputs": [],
   "source": [
    "#Prompt\n",
    "\n",
    "\"\"\"\n",
    "Scenario: A teacher is trying to input in over 200 student's grade from their recent exam (converting their numerical value to a letter grade in their gradebook) \n",
    "          BUT the conversion isn't as simple as 91 - 93 : A, 94 - 100 : A+ since the rest of the teachers hid the grade scale for no reason ! (not a very good school staff) \n",
    "          Because of that this teacher plans on using the other teacher's gradebook that they left behind to predict the range of the grade scale \n",
    "\"\"\"\n",
    "\n",
    "#use these imports \n",
    "import matplotlib.pyplot as plt \n",
    "import pandas as pd \n",
    "import numpy as np \n",
    "import random\n",
    "import csv \n",
    "from sklearn.model_selection import train_test_split\n",
    "from sklearn.metrics import accuracy_score"
   ]
  },
  {
   "cell_type": "code",
   "execution_count": 91,
   "metadata": {},
   "outputs": [
    {
     "name": "stdout",
     "output_type": "stream",
     "text": [
      "                 Name  Student id     sex  overall gpa  grade on recent exam  \\\n",
      "0          John Haley           0    male         3.69                    48   \n",
      "1      Timothy Ritter           1  female         2.01                    23   \n",
      "2       Jennifer Hart           2    male         2.31                    44   \n",
      "3         Chad Hughes           3    male         3.79                     6   \n",
      "4      Jason Gonzalez           4    male         2.43                     4   \n",
      "..                ...         ...     ...          ...                   ...   \n",
      "255  Charles Phillips         255    male         3.32                    99   \n",
      "256       John Hinton         256  female         2.05                    98   \n",
      "257         Raven Kim         257  female         2.88                    99   \n",
      "258     Andrea Palmer         258  female         2.20                    97   \n",
      "259      Mary Stevens         259  female         2.02                    98   \n",
      "\n",
      "    letter grade on recent exam  gym_exam_score  \n",
      "0                             F              49  \n",
      "1                             F              36  \n",
      "2                             F              35  \n",
      "3                             F              48  \n",
      "4                             F               4  \n",
      "..                          ...             ...  \n",
      "255                          A+              65  \n",
      "256                          A+              15  \n",
      "257                          A+              97  \n",
      "258                          A+              96  \n",
      "259                          A+              23  \n",
      "\n",
      "[260 rows x 7 columns]\n",
      "                   Name  Student id     sex  overall gpa  \\\n",
      "0            Robert Lee         260    male         2.87   \n",
      "1             Lisa Shea         261    male         3.84   \n",
      "2       Patricia Dalton         262  female         2.91   \n",
      "3          Mary Serrano         263    male         3.26   \n",
      "4        William Mooney         264  female         3.78   \n",
      "..                  ...         ...     ...          ...   \n",
      "255       Mary Diaz DVM         515    male         3.84   \n",
      "256  Kimberly Rodriguez         516  female         2.13   \n",
      "257        Andrew Young         517    male         3.87   \n",
      "258     Brittney Graves         518  female         2.42   \n",
      "259       Angela Orozco         519    male         2.60   \n",
      "\n",
      "     grade on recent exam letter grade on recent exam  gym_exam_score  \n",
      "0                     100                          A+             100  \n",
      "1                      92                          A-              11  \n",
      "2                      93                           A              95  \n",
      "3                      96                           A              84  \n",
      "4                      94                           A              88  \n",
      "..                    ...                         ...             ...  \n",
      "255                     4                           F              73  \n",
      "256                    30                           F              97  \n",
      "257                    37                           F              17  \n",
      "258                    22                           F              67  \n",
      "259                     5                           F              91  \n",
      "\n",
      "[260 rows x 7 columns]\n",
      "                 Name  Student id     sex  overall gpa  grade on recent exam  \\\n",
      "0    Teresa Hernandez         520  female         3.71                    79   \n",
      "1          John Colon         521    male         3.55                    40   \n",
      "2      Mary Armstrong         522  female         3.31                    89   \n",
      "3    Brandon Thompson         523    male         3.57                    83   \n",
      "4       Phillip Clark         524    male         3.14                    43   \n",
      "..                ...         ...     ...          ...                   ...   \n",
      "255        Luis Yates         775  female         2.64                    27   \n",
      "256      Eric Frazier         776  female         2.10                     2   \n",
      "257    Susan Williams         777    male         3.37                    55   \n",
      "258      Adrian Allen         778  female         3.29                    50   \n",
      "259       Wendy Evans         779  female         2.51                    41   \n",
      "\n",
      "    letter grade on recent exam  gym_exam_score  \n",
      "0                            C+              58  \n",
      "1                             F              68  \n",
      "2                            B+              16  \n",
      "3                             B              29  \n",
      "4                             F              82  \n",
      "..                          ...             ...  \n",
      "255                           F              58  \n",
      "256                           F              29  \n",
      "257                           F              20  \n",
      "258                           F              61  \n",
      "259                           F              25  \n",
      "\n",
      "[260 rows x 7 columns]\n"
     ]
    }
   ],
   "source": [
    "#read the csv files into a dataset \n",
    "\n",
    "df = pd.read_csv('teacher1.csv') \n",
    "df2 = pd.read_csv('teacher2.csv') \n",
    "df3 = pd.read_csv('teacher3.csv')\n",
    "print(df) \n",
    "print(df2) \n",
    "print(df3)"
   ]
  },
  {
   "cell_type": "markdown",
   "metadata": {},
   "source": [
    "What do you notice within each dataset (whatever you notice)? What do we need to answer the prompt? <-- What do we need, What do we not need \n",
    "Answer these questions by yourself before moving on, as for the first question you may graph it out "
   ]
  },
  {
   "cell_type": "code",
   "execution_count": 92,
   "metadata": {},
   "outputs": [
    {
     "data": {
      "image/png": "[encoded data removed]",
      "text/plain": [
       "<Figure size 640x480 with 1 Axes>"
      ]
     },
     "metadata": {},
     "output_type": "display_data"
    }
   ],
   "source": [
    "#graphing out each dataset onto a bar graph \n",
    "\n",
    "plt.bar(df['Student id'], df['letter grade on recent exam'])\n",
    "plt.show() "
   ]
  },
  {
   "cell_type": "code",
   "execution_count": 93,
   "metadata": {},
   "outputs": [
    {
     "data": {
      "image/png": "[encoded data removed]",
      "text/plain": [
       "<Figure size 640x480 with 1 Axes>"
      ]
     },
     "metadata": {},
     "output_type": "display_data"
    }
   ],
   "source": [
    "plt.bar(df2['Student id'], df2['letter grade on recent exam'])\n",
    "plt.show() "
   ]
  },
  {
   "cell_type": "code",
   "execution_count": 94,
   "metadata": {},
   "outputs": [
    {
     "data": {
      "image/png": "[encoded data removed]",
      "text/plain": [
       "<Figure size 640x480 with 1 Axes>"
      ]
     },
     "metadata": {},
     "output_type": "display_data"
    }
   ],
   "source": [
    "plt.bar(df3['Student id'], df3['grade on recent exam'])\n",
    "plt.show() \n",
    "\n",
    "#keep in mind that you can look at graphs however you want, I personally chose bar graphs to see the correlation between columns, but if you want to see something in another way go for it"
   ]
  },
  {
   "cell_type": "code",
   "execution_count": 95,
   "metadata": {},
   "outputs": [
    {
     "name": "stdout",
     "output_type": "stream",
     "text": [
      "(780, 1)\n"
     ]
    }
   ],
   "source": [
    "\"\"\"\n",
    "What do you notice within this dataset? A: *situational* ex: I noticed that there is a lump of students that have a grade letter F with range 1 through 54 in dataset 1 \n",
    "What do we need to answer the prompt? A: the key phrases given in the prompt were \"grade conversion\", \"grade scale\", \"other teacher's gradebook\"  \n",
    "- What do we need? A: we will need numerical grades and their respective letter grade which will be \"grade on recent exam\" and \"letter grade on recent exam\" column \n",
    "- What do we not need? A: everything else will be unecessary since we don't need names, student it, sex, overall gpa, gym_exam_score \n",
    "\"\"\"\n",
    "\n",
    "#now that we identified what we need and don't need we'll create a dataframe that we need \n",
    "#since we're going to be using every teacher's gradebook we're going to combine all the datasets together \n",
    "\n",
    "numerical_grade = [] \n",
    "letter_grade = [] \n",
    "\n",
    "numerical_grade.append(df[['grade on recent exam']])\n",
    "numerical_grade.append(df2[['grade on recent exam']])\n",
    "numerical_grade.append(df3[['grade on recent exam']])\n",
    "\n",
    "letter_grade.append(df[['letter grade on recent exam']])\n",
    "letter_grade.append(df2[['letter grade on recent exam']])\n",
    "letter_grade.append(df3[['letter grade on recent exam']])\n",
    "\n",
    "x_frame = pd.concat(numerical_grade, ignore_index=True) \n",
    "y_frame = pd.concat(letter_grade, ignore_index=True) \n",
    "\n",
    "#keep in mind that models only work with 2 dimensional arrays so print the shape to check \n",
    "# 1 dimensional should print: (#,) whereas 2 dimensional prints: (#,#)\n",
    "print(x_frame.shape) "
   ]
  },
  {
   "cell_type": "code",
   "execution_count": 96,
   "metadata": {},
   "outputs": [],
   "source": [
    "#since we don't necessarily have a separate train and test dataset we'll be splitting our existing frames into train and test datasets\n",
    "\n",
    "#test size is as the name suggests, determine the portion of the data to be part of the test split \n",
    "test_size = 0.2 \n",
    "#random_state allows reproducibility as the function shuffles the data in the same order prior to the split\n",
    "random_state = 42\n",
    "\n",
    "#why 42? Well the value 42 is the Answer to the Ultimate Question of Life, the Universe, and Everything! 🌌🤓\n",
    "\n",
    "X_train, X_val, y_train, y_val = train_test_split(x_frame, y_frame, test_size=test_size, random_state=random_state)"
   ]
  },
  {
   "cell_type": "markdown",
   "metadata": {},
   "source": [
    "Now we get to the actual model part, we'll be using the sklearn library models for this exercise which contains these list of classifiers \n",
    "- from sklearn.tree import ExtraTreeClassifier\n",
    "- from sklearn.tree import DecisionTreeClassifier\n",
    "- from sklearn.svm.classes import OneClassSVM\n",
    "- from sklearn.neural_network.multilayer_perceptron import MLPClassifier\n",
    "- from sklearn.neighbors.classification import RadiusNeighborsClassifier\n",
    "- from sklearn.neighbors.classification import KNeighborsClassifier\n",
    "- from sklearn.multioutput import ClassifierChain\n",
    "- from sklearn.multioutput import MultiOutputClassifier\n",
    "- from sklearn.multiclass import OutputCodeClassifier\n",
    "- from sklearn.multiclass import OneVsOneClassifier\n",
    "- from sklearn.multiclass import OneVsRestClassifier\n",
    "- from sklearn.linear_model.stochastic_gradient import SGDClassifier\n",
    "- from sklearn.linear_model.ridge import RidgeClassifierCV\n",
    "- from sklearn.linear_model.ridge import RidgeClassifier\n",
    "- from sklearn.linear_model.passive_aggressive import PassiveAggressiveClassifier    \n",
    "- from sklearn.gaussian_process.gpc import GaussianProcessClassifier\n",
    "- from sklearn.ensemble.voting_classifier import VotingClassifier\n",
    "- from sklearn.ensemble.weight_boosting import AdaBoostClassifier\n",
    "- from sklearn.ensemble.gradient_boosting import GradientBoostingClassifier\n",
    "- from sklearn.ensemble.bagging import BaggingClassifier\n",
    "- from sklearn.ensemble.forest import ExtraTreesClassifier\n",
    "- from sklearn.ensemble.forest import RandomForestClassifier\n",
    "- from sklearn.naive_bayes import BernoulliNB\n",
    "- from sklearn.calibration import CalibratedClassifierCV\n",
    "- from sklearn.naive_bayes import GaussianNB\n",
    "- from sklearn.semi_supervised import LabelPropagation\n",
    "- from sklearn.semi_supervised import LabelSpreading\n",
    "- from sklearn.discriminant_analysis import LinearDiscriminantAnalysis\n",
    "- from sklearn.svm import LinearSVC\n",
    "- from sklearn.linear_model import LogisticRegression\n",
    "- from sklearn.linear_model import LogisticRegressionCV\n",
    "- from sklearn.naive_bayes import MultinomialNB  \n",
    "- from sklearn.neighbors import NearestCentroid\n",
    "- from sklearn.svm import NuSVC\n",
    "- from sklearn.linear_model import Perceptron\n",
    "- from sklearn.discriminant_analysis import QuadraticDiscriminantAnalysis\n",
    "- from sklearn.svm import SVC\n",
    "- from sklearn.mixture import DPGMM\n",
    "- from sklearn.mixture import GMM \n",
    "- from sklearn.mixture import GaussianMixture\n",
    "- from sklearn.mixture import VBGMM\n",
    "copied from https://stackoverflow.com/a/54988354 since it's 3-4 years old, the import might be different so keep in mind when messing around with them \n",
    "ex: sklearn changed so instead of \"from sklearn.ensemble.forest import RandomForestClassifier\" it's \"from sklearn.ensemble import RandomForestClassifier\" "
   ]
  },
  {
   "cell_type": "code",
   "execution_count": 97,
   "metadata": {},
   "outputs": [
    {
     "name": "stdout",
     "output_type": "stream",
     "text": [
      "1.0\n"
     ]
    }
   ],
   "source": [
    "#create a classifier model including fitting train values and get the accuracy score\n",
    "\n",
    "#for simplicity sake I won't demand to go through every classifier and cross check for highest accuracy so we'll be using Decision Tree Classifier\n",
    "from sklearn.tree import DecisionTreeClassifier\n",
    "\n",
    "#keep in mind that all Classifiers have parameters that you can modify to get a little bit more accuracy, keep in mind for that when using them\n",
    "model = DecisionTreeClassifier() \n",
    "model.fit(X_train, y_train) \n",
    "\n",
    "y_pred = model.predict(X_val)\n",
    "accuracy = accuracy_score(y_val, y_pred) \n",
    "print(accuracy) "
   ]
  },
  {
   "cell_type": "code",
   "execution_count": 98,
   "metadata": {},
   "outputs": [
    {
     "name": "stdout",
     "output_type": "stream",
     "text": [
      "(260, 1)\n"
     ]
    }
   ],
   "source": [
    "#now that we have our model ready let's create our own sample student size with size 260\n",
    "\n",
    "students = []\n",
    "#since all our csv sizes were 260 I'll do the same here\n",
    "for _ in range(260): \n",
    "    #for time sake I'll just randomize the student's exam score, if you wish then you can use an algorithm to get a list of student's scores \n",
    "    students.append(random.randint(0, 100)) \n",
    "\n",
    "student_pd = pd.DataFrame(students) \n",
    "print(student_pd.shape)"
   ]
  },
  {
   "cell_type": "code",
   "execution_count": 99,
   "metadata": {},
   "outputs": [
    {
     "name": "stdout",
     "output_type": "stream",
     "text": [
      "student received 69 with letter grade of D+\n"
     ]
    },
    {
     "name": "stderr",
     "output_type": "stream",
     "text": [
      "c:\\Users\\go7jo\\AppData\\Local\\Programs\\Python\\Python312\\Lib\\site-packages\\sklearn\\base.py:465: UserWarning: X does not have valid feature names, but DecisionTreeClassifier was fitted with feature names\n",
      "  warnings.warn(\n"
     ]
    }
   ],
   "source": [
    "#run your student sample through the model and create a new csv for it\n",
    "\n",
    "students_letter = model.predict(student_pd) \n",
    "#example of how it should look like in the end \n",
    "print(f\"student received {students[0]} with letter grade of {students_letter[0]}\") \n",
    "\n",
    "#convert it to a csv \n",
    "data = [['numerical grade', 'letter grade']] \n",
    "for i in range(len(students)): \n",
    "    data.append([students[i], students_letter[i]])\n",
    "\n",
    "with open('final.csv', 'w') as csvfile: \n",
    "    csvwriter = csv.writer(csvfile) \n",
    "    csvwriter.writerows(data) \n",
    "\n",
    "csvfile.close()"
   ]
  },
  {
   "cell_type": "markdown",
   "metadata": {},
   "source": [
    "When I designed this scenario I decided that the range will be \n",
    "- <60% F, 60-62% D-, 63-66% D, 67-69% D+, 70-72% C-, 73-76% C, 77-79% C+, 80-82% B-, 83-86% B, 87-89% B+, 90-92% A-, 93-96% A, 97-100% A+\n",
    "with 3 \"teachers\" where\n",
    "1. first teacher will have equal ratio between each letter <-- to give the model a basic gist of what each range is\n",
    "2. second will have a form of bell curve <-- simulate a stereotypical grade distribution \n",
    "3. third that will be randomly generated <-- dealing / showing the \"unknown\", if the random generation ends up with equal ratio then the model will have better understanding of the overall range or it might be highly accurate on one compared ot the other\n",
    "\n",
    "the main purpose of this Python notebook is to \n",
    "1. inform the reader of the differences between a Classifier and a Regressor \n",
    "2. To emphasize the importance of pattern recognition as well as finding the connections between columns that we require and columns we don't require \n",
    "3. Although I techincally gave the answer / range now, that the reader knows how to uitilize values from a dataset to figure out the \"unknown\" "
   ]
  },
  {
   "cell_type": "code",
   "execution_count": 100,
   "metadata": {},
   "outputs": [
    {
     "name": "stdout",
     "output_type": "stream",
     "text": [
      "accuracy: 100%\n"
     ]
    },
    {
     "name": "stderr",
     "output_type": "stream",
     "text": [
      "c:\\Users\\go7jo\\AppData\\Local\\Programs\\Python\\Python312\\Lib\\site-packages\\sklearn\\base.py:465: UserWarning: X does not have valid feature names, but DecisionTreeClassifier was fitted with feature names\n",
      "  warnings.warn(\n"
     ]
    }
   ],
   "source": [
    "#now that we know what the range is, let's test out if our model accurately got the range \n",
    "#let's take the maximum and see the result\n",
    "test = [59, 60, 62, 63, 66, 67, 69, 70, 72, 73, 76, 77, 79, 80, 82, 83, 86, 87, 89, 90, 92, 93, 96, 97, 100]\n",
    "test_actual = [\"F\", \"D-\", \"D-\", \"D\", \"D\", \"D+\", \"D+\", \"C-\", \"C-\", \"C\", \"C\", \"C+\", \"C+\", \"B-\", \"B-\", \"B\", \"B\", \"B+\", \"B+\", \"A-\", \"A-\", \"A\", \"A\", \"A+\", \"A+\"] \n",
    "test_df = pd.DataFrame(test) \n",
    "test_predict = model.predict(test_df) \n",
    "\n",
    "accuracy = accuracy_score(test_actual, test_predict) \n",
    "print(f\"accuracy: {(int)(accuracy*100)}%\") "
   ]
  },
  {
   "cell_type": "markdown",
   "metadata": {},
   "source": [
    "I hope this helped you understand more on how to analyze a data -> shape the data for your purpose -> use classifier -> confirm classifier model's accuracy "
   ]
  }
 ],
 "metadata": {
  "kernelspec": {
   "display_name": "Python 3",
   "language": "python",
   "name": "python3"
  },
  "language_info": {
   "codemirror_mode": {
    "name": "ipython",
    "version": 3
   },
   "file_extension": ".py",
   "mimetype": "text/x-python",
   "name": "python",
   "nbconvert_exporter": "python",
   "pygments_lexer": "ipython3",
   "version": "3.12.1"
  }
 },
 "nbformat": 4,
 "nbformat_minor": 2
}
