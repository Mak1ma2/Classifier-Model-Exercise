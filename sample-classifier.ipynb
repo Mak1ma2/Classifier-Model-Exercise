{
 "cells": [
  {
   "cell_type": "markdown",
   "metadata": {},
   "source": [
    "Mak1ma2 \n",
    "\n",
    "This is going to be a sample on how to create a classifier model. \n",
    "- Classifier vs Regressor? A: It's easier to understand the difference between a classifier model and a regressor model based on their general purpose. For classifier model the user wishes to input values into models to \"classify\" them to a certain label (ex: trained models using colors of the rainbow -> input light red -> model should output red (model classified \"light red\" as red <-- an already established label)). For regressor model the user wishes to input values into models to predict the future values (ex: trained models using values of shipments that flows through one warehouse -> input future dates -> model should output predicted values of shipments that'll pass through throughout the inputted dates).  "
   ]
  },
  {
   "cell_type": "code",
   "execution_count": 17,
   "metadata": {},
   "outputs": [],
   "source": [
    "#Sample dataset \n",
    "\n",
    "\"\"\"\n",
    "Scenario: A teacher is trying to input in over 100 student's grade from their recent exam (converting their numerical value to a letter grade in their gradebook) \n",
    "          BUT the conversion isn't as simple as 91 - 93 : A, 94 - 100 : A+ since the rest of the teachers hid the grade range for no reason ! (not a very good school staff) \n",
    "          Because of that this teacher plans on using the other teacher's gradebook that they left behind to predict the range of the grade range \n",
    "\n",
    "Exercise: 3 CSV files \n",
    "\"\"\"\n"
   ]
  },
  {
   "cell_type": "code",
   "execution_count": null,
   "metadata": {},
   "outputs": [],
   "source": [
    "students = [] \n",
    "rand = [] \n",
    "for i in range(20): \n",
    "    rand.append(random.randint(0, 150))\n",
    "\n",
    "#student's numerical grades  \n",
    "for i in range(150): \n",
    "    #since it's kind of unreasonable to possibly have half the class get a F let's set a limit to only 20 people getting a F \n",
    "    if i in rand: \n",
    "        students.append(random.randint(0,))\n",
    "\n",
    "#looking at a sample of the list \n",
    "print(students[:10]) "
   ]
  },
  {
   "cell_type": "markdown",
   "metadata": {},
   "source": [
    "When I designed this scenario I decided that the range will be \n",
    "- <60% F, 60-62% D-, 63-66% D, 67-69% D+, 70-72% C-, 73-76% C, 77-79% C+, 80-82% B-, 83-86% B, 87-89% B+, 90-92% A-, 93-96% A, 97-100% A+\n",
    "with 3 \"teachers\" where\n",
    "1. first teacher will have equal ratio between each letter <-- to give the model a basic gist of what each range is\n",
    "2. second will have a form of standard deviation <-- simulate a stereotypical grade sheet \n",
    "3. third that will be randomly generated <-- dealing / showing the \"unknown\", if the random generation ends up with equal ratio then the model will have better understanding of the overall range or it might be highly accurate on one compared ot the other\n",
    "\n",
    "the main purpose of this Python notebook is to \n",
    "1. inform the reader of the differences between a Classifier and a Regressor \n",
    "2. To emphasize the importance of pattern recognition as well as finding the connections between columns that we require and columns we don't require \n",
    "3. Although I techincally gave the answer / range now, that the reader knows how to uitilize values from a dataset to figure out the \"unknown\" "
   ]
  },
  {
   "cell_type": "markdown",
   "metadata": {},
   "source": []
  }
 ],
 "metadata": {
  "kernelspec": {
   "display_name": "Python 3",
   "language": "python",
   "name": "python3"
  },
  "language_info": {
   "codemirror_mode": {
    "name": "ipython",
    "version": 3
   },
   "file_extension": ".py",
   "mimetype": "text/x-python",
   "name": "python",
   "nbconvert_exporter": "python",
   "pygments_lexer": "ipython3",
   "version": "3.12.1"
  }
 },
 "nbformat": 4,
 "nbformat_minor": 2
}
